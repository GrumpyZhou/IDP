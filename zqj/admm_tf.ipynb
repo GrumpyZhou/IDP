{
 "cells": [
  {
   "cell_type": "markdown",
   "metadata": {},
   "source": [
    "# ADMM applied in Neural Networks with Mnist dataset\n"
   ]
  },
  {
   "cell_type": "code",
   "execution_count": 62,
   "metadata": {
    "collapsed": false
   },
   "outputs": [
    {
     "name": "stdout",
     "output_type": "stream",
     "text": [
      "The autoreload extension is already loaded. To reload it, use:\n",
      "  %reload_ext autoreload\n"
     ]
    }
   ],
   "source": [
    "# Preparation with environment for notebook\n",
    "import random\n",
    "import numpy as np\n",
    "import matplotlib.pyplot as plt\n",
    "from matplotlib import gridspec\n",
    "\n",
    "# Allow inline matplotlib figures appear in the notebook\n",
    "%matplotlib inline\n",
    "plt.rcParams['figure.figsize'] = (10.0, 10.0) # set default size of plots\n",
    "plt.rcParams['image.interpolation'] = 'nearest'\n",
    "plt.rcParams['image.cmap'] = 'gray'\n",
    "\n",
    "# Allow auto-reload of external modules \n",
    "%load_ext autoreload\n",
    "%autoreload 2"
   ]
  },
  {
   "cell_type": "markdown",
   "metadata": {},
   "source": [
    "## Preprocessing and Loading of dataset"
   ]
  },
  {
   "cell_type": "code",
   "execution_count": 71,
   "metadata": {
    "collapsed": false
   },
   "outputs": [
    {
     "name": "stdout",
     "output_type": "stream",
     "text": [
      "Training data shape:  (60000, 28, 28) float64\n",
      "Training labels shape:  (60000,) int8\n",
      "Test data shape:  (10000, 28, 28)\n",
      "Test labels shape:  (10000,)\n"
     ]
    }
   ],
   "source": [
    "from NeuralNetwork.data_utils import *\n",
    "\n",
    "# Load Mnist Data\n",
    "mnistDir = \"NeuralNetwork/MnistData\"\n",
    "X_train,Y_train,X_test,Y_test = getMnistData(mnistDir)\n",
    "\n",
    "# Check the size of the training and test data.\n",
    "print 'Training data shape: ', X_train.shape, X_train.dtype\n",
    "print 'Training labels shape: ', Y_train.shape,Y_train.dtype\n",
    "print 'Test data shape: ', X_test.shape\n",
    "print 'Test labels shape: ', Y_test.shape"
   ]
  },
  {
   "cell_type": "code",
   "execution_count": 8,
   "metadata": {
    "collapsed": false
   },
   "outputs": [
    {
     "data": {
      "image/png": "[encoded data removed]",
      "text/plain": [
       "<matplotlib.figure.Figure at 0x103c56bd0>"
      ]
     },
     "metadata": {},
     "output_type": "display_data"
    }
   ],
   "source": [
    "# Display part of the Mnist data\n",
    "for xi in range(0,9):\n",
    "    plt.subplot(1,10,xi+1)\n",
    "    plt.imshow(X_train[xi])\n",
    "    plt.axis('off')\n",
    "    plt.title(Y_train[xi])"
   ]
  },
  {
   "cell_type": "code",
   "execution_count": 4,
   "metadata": {
    "collapsed": false
   },
   "outputs": [
    {
     "name": "stdout",
     "output_type": "stream",
     "text": [
      "Extracting data/train-images-idx3-ubyte.gz\n",
      "Extracting data/train-labels-idx1-ubyte.gz\n",
      "Extracting data/t10k-images-idx3-ubyte.gz\n",
      "Extracting data/t10k-labels-idx1-ubyte.gz\n",
      "0 55000 55000\n",
      "(55000, 784) (55000,)\n"
     ]
    }
   ],
   "source": [
    "#Load dataset from tensorflow\n",
    "import NeuralNetwork.TensorFlow.input_data as input_data\n",
    "fake_data = False\n",
    "train_dir = 'data'\n",
    "batch_size = 55000\n",
    "data_sets = input_data.read_data_sets(train_dir, fake_data).train\n",
    "tfX, tfY = data_sets.next_batch(batch_size,fake_data)\n",
    "print tfX.shape, tfY.shape"
   ]
  },
  {
   "cell_type": "markdown",
   "metadata": {},
   "source": [
    "## Predefined Functions"
   ]
  },
  {
   "cell_type": "code",
   "execution_count": 9,
   "metadata": {
    "collapsed": true
   },
   "outputs": [],
   "source": [
    "# Get MiniPatch\n",
    "def getMiniPatch(X_train, Y_train, X_test, Y_test, trNum, teNum, transposed):\n",
    "    # Subsample the data for more efficient code execution \n",
    "    trainNum = trNum\n",
    "    mask = range(trainNum)\n",
    "    #mask = range(5000,trainNum)\n",
    "    Xtr = X_train[mask]\n",
    "    Ytr = Y_train[mask]\n",
    "    \n",
    "    testNum = teNum\n",
    "    mask = range(testNum)\n",
    "    #mask = range(5000,5000+testNum)\n",
    "    Xte = X_test[mask]\n",
    "    Yte = Y_test[mask]\n",
    "    \n",
    "    # Reshape the image data into rows\n",
    "    Xtr = np.reshape(Xtr, (Xtr.shape[0], -1))\n",
    "    Xte = np.reshape(Xte, (Xte.shape[0], -1))\n",
    "   \n",
    "    # print Xtr.shape, Xte.shape\n",
    "    if not transposed:\n",
    "        return Xtr, Xtr, Ytr, Yte\n",
    "    else:\n",
    "        return preprocess(Xtr.T), Xte.T, Ytr, Yte\n",
    "\n",
    "def preprocess(X):\n",
    "    \n",
    "#     # return X\n",
    "#     X = X.astype(np.float64)\n",
    "#     # Mean subtraction\n",
    "#     X -= np.mean(X)  \n",
    "#     # Normalization\n",
    "   # X /= np.std(X, axis = 0)\n",
    "    return X\n",
    "\n",
    "def calLossWithTF(Y_tr, logits):\n",
    "    with tf.Graph().as_default() as g:\n",
    "        sess = tf.InteractiveSession()\n",
    "        cross_entropy = tf.nn.sparse_softmax_cross_entropy_with_logits(\n",
    "          logits, np.int64(Y_tr), name='xentropy')\n",
    "        loss = tf.reduce_mean(cross_entropy, name='xentropy_mean')\n",
    "    return sess.run(loss)"
   ]
  },
  {
   "cell_type": "markdown",
   "metadata": {},
   "source": [
    "## Comparasion between ours and TF"
   ]
  },
  {
   "cell_type": "markdown",
   "metadata": {},
   "source": [
    "### Train and predict with dataset from TF"
   ]
  },
  {
   "cell_type": "code",
   "execution_count": 6,
   "metadata": {
    "collapsed": false
   },
   "outputs": [
    {
     "name": "stdout",
     "output_type": "stream",
     "text": [
      "Extracting data/train-images-idx3-ubyte.gz\n",
      "Extracting data/train-labels-idx1-ubyte.gz\n",
      "Extracting data/t10k-images-idx3-ubyte.gz\n",
      "Extracting data/t10k-labels-idx1-ubyte.gz\n"
     ]
    }
   ],
   "source": [
    "import tensorflow as tf\n",
    "import numpy as np\n",
    "import NeuralNetwork.TensorFlow.simple_nn as tfnn\n",
    "from NeuralNetwork.neural_network import *\n",
    "import time\n",
    "\n",
    "# Parameters initialization\n",
    "trNum = batch_size\n",
    "hiddenLayer = [300]\n",
    "classNum = 10 \n",
    "epsilon= 0.0001 \n",
    "\n",
    "weightConsWeight = 10\n",
    "activConsWeight = 15\n",
    "iterNum = 20\n",
    "hasLambda = True\n",
    "tic = time.time()\n",
    "calLoss = False"
   ]
  },
  {
   "cell_type": "code",
   "execution_count": 29,
   "metadata": {
    "collapsed": false
   },
   "outputs": [
    {
     "name": "stdout",
     "output_type": "stream",
     "text": [
      "[]   [[]]   [[], []]\n",
      "Initializing a neural network with :  1  hidden layers, hidden layer dimension: [300]\n",
      "(300, 784)\n",
      "Prediction accuracy: 0.875000\n",
      "Loss by us: 2.24867793747\n"
     ]
    }
   ],
   "source": [
    "\n",
    "# Train our own neural network\n",
    "X_tr, Y_tr = tfX.T, tfY\n",
    "network = NeuralNetwork(X_tr, Y_tr, classNum, hiddenLayer, epsilon)\n",
    "network.train(weightConsWeight, activConsWeight, iterNum, hasLambda, calLoss, lossType = 'smx',\n",
    "              minMethod = 'prox', tau= 0.01, ite= 25)\n",
    "# Predict\n",
    "Ypred, z = network.predict(X_tr)\n",
    "print 'Prediction accuracy: %f' %np.mean(Ypred == Y_tr)\n",
    "\n",
    "# Calculate loss \n",
    "loss = calLossWithTF(Y_tr, z.T)\n",
    "print 'Loss by us:', loss"
   ]
  },
  {
   "cell_type": "code",
   "execution_count": 33,
   "metadata": {
    "collapsed": false
   },
   "outputs": [
    {
     "name": "stdout",
     "output_type": "stream",
     "text": [
      "[7 3 4 6 1 8 1 0 9 8] [7 3 4 6 1 8 1 0 9 8]\n",
      "(784, 55000)\n",
      "(55000,)\n"
     ]
    },
    {
     "data": {
      "text/plain": [
       "0.0"
      ]
     },
     "execution_count": 33,
     "metadata": {},
     "output_type": "execute_result"
    }
   ],
   "source": [
    "print Y_tr[range(10)], tfY[range(10)]\n",
    "print tfX.T.shape\n",
    "print tfY.shape\n",
    "np.sum(X_tr - tfX.T) "
   ]
  },
  {
   "cell_type": "markdown",
   "metadata": {},
   "source": [
    "### Feed our network with W from TF"
   ]
  },
  {
   "cell_type": "code",
   "execution_count": 72,
   "metadata": {
    "collapsed": false
   },
   "outputs": [
    {
     "name": "stdout",
     "output_type": "stream",
     "text": [
      "Step 1999: loss = 0.51\n",
      " Loss by TF: 0.509063\n",
      "Our side:\n",
      "Prediction accuracy: 0.891800\n",
      "Loss by us: 39.3942\n"
     ]
    }
   ],
   "source": [
    "# Get trained weight from tensor flow\n",
    "%prun w1,w2,loss_ft,logit = tfnn.getTrainedWeight(hiddenLayer[0])\n",
    "print 'Loss by TF:',loss_ft\n",
    "\n",
    "# Feed into our network\n",
    "w = [np.zeros((0))]\n",
    "w.append(w1.T)\n",
    "w.append(w2.T)\n",
    "z_us = network.predictByFeed(X_tr, w)\n",
    "loss_us = calLossWithTF(Y_tr, z_us.T)\n",
    "print 'Our side:'\n",
    "print 'Prediction accuracy: %f' %np.mean(Ypred_ == Y_tr)\n",
    "print 'Loss by us:', loss_us"
   ]
  },
  {
   "cell_type": "code",
   "execution_count": 52,
   "metadata": {
    "collapsed": false
   },
   "outputs": [
    {
     "name": "stdout",
     "output_type": "stream",
     "text": [
      "(100, 10) (10, 55000)\n",
      "(100, 10)\n",
      "0.421749\n"
     ]
    }
   ],
   "source": [
    "print logit.shape,z_us.shape\n",
    "#np.sum(logit - z_us)\n",
    "\n",
    "i = range(54900,55000)\n",
    "print z_us.T[i,:].shape\n",
    "loss = calLossWithTF(Y_tr[i], z_us.T[i,:])\n",
    "print loss"
   ]
  },
  {
   "cell_type": "code",
   "execution_count": 56,
   "metadata": {
    "collapsed": false
   },
   "outputs": [
    {
     "name": "stdout",
     "output_type": "stream",
     "text": [
      "[]   [[]]   [[], []]\n",
      "Initializing a neural network with :  1  hidden layers, hidden layer dimension: [300]\n",
      "Loss cal by us with w from TF: 2.30258509251\n"
     ]
    }
   ],
   "source": [
    "# Calculate loss of TF's W with our loss function\n",
    "network = NeuralNetwork(X_tr[:,i], Y_tr[i], classNum, hiddenLayer, epsilon)\n",
    "loss_us_ = network.softMaxLossTest(w)\n",
    "print 'Loss cal by us with w from TF:', loss_us_"
   ]
  },
  {
   "cell_type": "markdown",
   "metadata": {},
   "source": [
    "## Test NeuralNetwork\n"
   ]
  },
  {
   "cell_type": "code",
   "execution_count": 15,
   "metadata": {
    "collapsed": false
   },
   "outputs": [
    {
     "name": "stdout",
     "output_type": "stream",
     "text": [
      "(300, 784)\n"
     ]
    }
   ],
   "source": [
    "Ypred = network.predict(X_te)"
   ]
  },
  {
   "cell_type": "code",
   "execution_count": 1,
   "metadata": {
    "collapsed": false
   },
   "outputs": [],
   "source": [
    "# 0.880000\n",
    "# print network.dataLoss\n",
    "# print network.zConstrLoss[L-1]\n",
    "# print network.aConstrLoss[L-1]"
   ]
  },
  {
   "cell_type": "code",
   "execution_count": 57,
   "metadata": {
    "collapsed": false
   },
   "outputs": [
    {
     "name": "stdout",
     "output_type": "stream",
     "text": [
      "Prediction accuracy: 0.802000\n"
     ]
    }
   ],
   "source": [
    "X_tr, X_te, Y_tr, Y_te = getMiniPatch(X_train, Y_train, X_test, Y_test, 6000, 1000, 1)\n",
    "Ypred = network.predict(X_te)\n",
    "print 'Prediction accuracy: %f' %np.mean(Ypred == Y_te)"
   ]
  },
  {
   "cell_type": "code",
   "execution_count": 60,
   "metadata": {
    "collapsed": false,
    "scrolled": false,
    "slideshow": {
     "slide_type": "slide"
    }
   },
   "outputs": [
    {
     "name": "stdout",
     "output_type": "stream",
     "text": [
      "hasLambda =  True\n",
      "Xtr:  (784, 55000) Xte:  (784, 10000) Ytr:  (55000,) Yte:  (10000,)\n",
      "[]   [[]]   [[], []]\n",
      "Initializing a neural network with :  1  hidden layers, hidden layer dimension: [300]\n",
      "(300, 784)\n",
      "(0,) (784, 55000)\n",
      "Total training time: 757.963371s\n",
      "(300, 784)\n"
     ]
    },
    {
     "data": {
      "image/png": "[encoded data removed]",
      "text/plain": [
       "<matplotlib.figure.Figure at 0x103c8a310>"
      ]
     },
     "metadata": {},
     "output_type": "display_data"
    }
   ],
   "source": [
    "from NeuralNetwork.neural_network import *\n",
    "import time\n",
    "\n",
    "\n",
    "case = [(55000,10000)]#,(5000,50)]#,(500,10),(5000,10),(5000,500),(20000,500),(20000, 2000)]\n",
    "lam = [True]\n",
    "i = 0\n",
    "for la in lam:\n",
    "    print 'hasLambda = ',la\n",
    "    for (trNum,teNum) in case:\n",
    "        X_tr, X_te, Y_tr, Y_te = getMiniPatch(X_train, Y_train, X_test, Y_test, trNum, teNum, 1)\n",
    "        print 'Xtr: ', X_tr.shape, 'Xte: ', X_te.shape, 'Ytr: ', Y_tr.shape, 'Yte: ', Y_te.shape\n",
    "        \n",
    "        # Initialize network\n",
    "        hiddenLayer = [300]\n",
    "        classNum = 10 \n",
    "        epsilon= 0.0001 \n",
    "        #epsilon = np.sqrt(2.0/trNum)\n",
    "        network = NeuralNetwork(X_tr, Y_tr, classNum, hiddenLayer, epsilon)\n",
    "        # Train\n",
    "        weightConsWeight = 10\n",
    "        activConsWeight = 15\n",
    "        iterNum = 50\n",
    "        hasLambda = 0\n",
    "        tic = time.time()\n",
    "        calLoss = True\n",
    "        \n",
    "        \"\"\" \n",
    "        Input:\n",
    "        weightConsWeight, activConsWeight\n",
    "        iterNum:    iteration to perform Admm updates\n",
    "        hasLambda:  whether include Lambda update\n",
    "        lossType:   one of {'hinge', 'msq', 'smx'}, default is 'smx'\n",
    "        minMethod:  if lossType is 'smx', the method to minimize the zLastUpdate has to be specified (for it's not in closed form), \n",
    "                    it can be one of {'prox','gd','newton'}, default is 'prox';\n",
    "        tau, ite:   if lossType is 'smx', the step size and iteration of gradient descent/proximal gradient have to be specified, \n",
    "                    default: tau=0.01, ite=25; \n",
    "        \"\"\"\n",
    "        #network.train(weightConsWeight, activConsWeight, iterNum, hasLambda,lossType = 'hinge')\n",
    "        network.train(weightConsWeight, activConsWeight, iterNum, hasLambda, calLoss, lossType = 'smx',\n",
    "                      minMethod = 'prox', tau= 0.01, ite= 25,initW = initW)\n",
    "        toc = time.time()\n",
    "        print 'Total training time: %fs' % (toc - tic)\n",
    "\n",
    "        # Predict\n",
    "        Ypred, z_ = network.predict(X_te)\n",
    "       # print 'Prediction accuracy: %f' %np.mean(Ypred == Y_te)\n",
    "        \n",
    "        L = len(hiddenLayer)\n",
    "        if calLoss:\n",
    "            fig = plt.figure()\n",
    "            gs = gridspec.GridSpec(5,L)\n",
    "          \n",
    "            dataLoss = fig.add_subplot(gs[0,:])\n",
    "            dataLoss.set_title('loss function')\n",
    "            dataLoss.plot(network.dataLoss, 'k-')\n",
    "\n",
    "            for l in range(0,L):\n",
    "                aloss = fig.add_subplot(gs[1,l])\n",
    "                aloss.set_title('constraint a = hz, layer = %d' % (l+1))\n",
    "                aloss.plot(network.aConstrLoss[l], 'g-')\n",
    "                \n",
    "                zloss = fig.add_subplot(gs[2,l])\n",
    "                zloss.set_title('constraint z = wa, layer = %d' % (l+1))\n",
    "                zloss.plot(network.zConstrLoss[l], 'b-')\n",
    "                \n",
    "#             lag = fig.add_subplot(gs[3,:])\n",
    "#             lag.set_title('lagrange term')\n",
    "#             lag.plot(network.lagraLoss, 'r-')\n",
    "\n",
    "            \n",
    "            zLLoss = fig.add_subplot(gs[3,:])\n",
    "            zLLoss.set_title('output layer zL')\n",
    "            zLLoss.plot(network.zConstrLoss[L], 'k-')\n",
    "            \n",
    "            total = fig.add_subplot(gs[4,:])\n",
    "            total.set_title('total loss ')\n",
    "            total.plot(network.totalLoss, 'r-')\n",
    "            \n",
    "            plt.tight_layout()\n",
    "            plt.show()\n",
    "        \n"
   ]
  },
  {
   "cell_type": "code",
   "execution_count": 61,
   "metadata": {
    "collapsed": false
   },
   "outputs": [
    {
     "name": "stdout",
     "output_type": "stream",
     "text": [
      "Loss by us: 41261.1500051\n"
     ]
    }
   ],
   "source": [
    "\n",
    "# Calculate loss \n",
    "loss = calLossWithTF(Y_te, z_.T)\n",
    "print 'Loss by us:', loss\n"
   ]
  },
  {
   "cell_type": "code",
   "execution_count": null,
   "metadata": {
    "collapsed": true
   },
   "outputs": [],
   "source": []
  },
  {
   "cell_type": "code",
   "execution_count": 31,
   "metadata": {
    "collapsed": false
   },
   "outputs": [
    {
     "name": "stdout",
     "output_type": "stream",
     "text": [
      "Prediction accuracy: 0.937600\n"
     ]
    }
   ],
   "source": [
    "print 'Prediction accuracy: %f' %np.mean(Ypred == Y_te)\n",
    "\n"
   ]
  },
  {
   "cell_type": "code",
   "execution_count": 43,
   "metadata": {
    "collapsed": false
   },
   "outputs": [],
   "source": [
    "#network.W\n",
    "w = network.W\n",
    "len(w)\n",
    "np.savez('weight.npz', w1=w[1], w2=w[2])"
   ]
  },
  {
   "cell_type": "code",
   "execution_count": 44,
   "metadata": {
    "collapsed": false
   },
   "outputs": [
    {
     "name": "stdout",
     "output_type": "stream",
     "text": [
      "3\n"
     ]
    }
   ],
   "source": [
    "w = [0]\n",
    "with np.load(\"weight.npz\") as data:\n",
    "    w.append(data['w1'])\n",
    "    w.append(data['w2'])\n",
    "print len(w)"
   ]
  },
  {
   "cell_type": "code",
   "execution_count": 45,
   "metadata": {
    "collapsed": true
   },
   "outputs": [],
   "source": [
    "initW = network.W"
   ]
  },
  {
   "cell_type": "code",
   "execution_count": 55,
   "metadata": {
    "collapsed": false
   },
   "outputs": [
    {
     "data": {
      "text/plain": [
       "array([[ -8.54673819e+01,  -6.95011009e+06,   3.62151778e+06, ...,\n",
       "          0.00000000e+00,   0.00000000e+00,   0.00000000e+00],\n",
       "       [  4.97638950e+01,  -7.74334158e+06,   7.06292068e+06, ...,\n",
       "          0.00000000e+00,   0.00000000e+00,   0.00000000e+00],\n",
       "       [  3.67610030e+01,  -3.80845884e+06,   2.47856401e+06, ...,\n",
       "          0.00000000e+00,   0.00000000e+00,   0.00000000e+00],\n",
       "       ..., \n",
       "       [  4.81621075e+01,   1.25230413e+06,   3.80465231e+05, ...,\n",
       "          0.00000000e+00,   0.00000000e+00,   0.00000000e+00],\n",
       "       [  9.25450085e+01,   3.16308612e+06,   3.70571041e+06, ...,\n",
       "          0.00000000e+00,   0.00000000e+00,   0.00000000e+00],\n",
       "       [  7.82801142e+01,   2.85657460e+05,   3.20782105e+06, ...,\n",
       "          0.00000000e+00,   0.00000000e+00,   0.00000000e+00]])"
      ]
     },
     "execution_count": 55,
     "metadata": {},
     "output_type": "execute_result"
    }
   ],
   "source": [
    "initW[1]"
   ]
  },
  {
   "cell_type": "code",
   "execution_count": null,
   "metadata": {
    "collapsed": true
   },
   "outputs": [],
   "source": []
  }
 ],
 "metadata": {
  "anaconda-cloud": {},
  "kernelspec": {
   "display_name": "Python [Root]",
   "language": "python",
   "name": "Python [Root]"
  },
  "language_info": {
   "codemirror_mode": {
    "name": "ipython",
    "version": 2
   },
   "file_extension": ".py",
   "mimetype": "text/x-python",
   "name": "python",
   "nbconvert_exporter": "python",
   "pygments_lexer": "ipython2",
   "version": "2.7.12"
  }
 },
 "nbformat": 4,
 "nbformat_minor": 0
}
