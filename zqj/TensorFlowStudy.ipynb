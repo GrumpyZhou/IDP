{
 "cells": [
  {
   "cell_type": "code",
   "execution_count": 88,
   "metadata": {
    "collapsed": false
   },
   "outputs": [
    {
     "name": "stdout",
     "output_type": "stream",
     "text": [
      "hidden1/weights:0\n",
      "0.4\n",
      "hidden1/biases:0\n",
      "1.5\n",
      "hidden1/hh:0\n",
      "0.01\n",
      "softmax/weights:0\n",
      "1.9\n",
      "softmax/biases:0\n",
      "0.5\n",
      "2.15\n",
      "0.4\n"
     ]
    }
   ],
   "source": [
    "from __future__ import absolute_import\n",
    "from __future__ import division\n",
    "from __future__ import print_function\n",
    "import tensorflow as tf\n",
    "\n",
    "\n",
    "def inference(x):\n",
    "    # Hidden 1\n",
    "    with tf.name_scope('hidden1'):\n",
    "        weights = tf.Variable(0.4, name='weights')\n",
    "        biases = tf.Variable(1.5,name='biases')    \n",
    "        hh = tf.Variable(0.01,name='hh')\n",
    "        hidden1 = tf.add(weights,x) + biases\n",
    "        hh.assign(hidden1)\n",
    "        \n",
    "    # Linear\n",
    "    with tf.name_scope('softmax'):\n",
    "        weights = tf.Variable( 1.9,name='weights')\n",
    "        biases = tf.Variable(0.5,name='biases')\n",
    "        logits = tf.add(hidden1, weights) * biases\n",
    "    saver = tf.train.Saver([hh])\n",
    "    return logits#,saver\n",
    "\n",
    "\n",
    "with tf.Graph().as_default() as g:\n",
    "    \n",
    "    \n",
    "    res = inference(0.5) \n",
    "    init = tf.initialize_all_variables()\n",
    "    \n",
    "    #print([v.name, v.value for v in tf.all_variables()])\n",
    "    # Create a session for running Ops on the Graph.\n",
    "    sess = tf.Session()\n",
    "    \n",
    "    # Run the Op to initialize the variables.\n",
    "    sess.run(init)\n",
    "    for v in tf.all_variables():\n",
    "        print(v.name)\n",
    "        print(v.eval(sess))\n",
    "    \n",
    "    b = g.get_collection(tf.GraphKeys.VARIABLES, \"hidden1\")\n",
    "    res,b = sess.run([res,b])\n",
    "    print(res)\n",
    "    print(b[0])\n",
    "    \n",
    "#     c = g.get_tensor_by_name\n",
    "    "
   ]
  },
  {
   "cell_type": "code",
   "execution_count": 4,
   "metadata": {
    "collapsed": false
   },
   "outputs": [
    {
     "name": "stdout",
     "output_type": "stream",
     "text": [
      "Tensor(\"x_2:0\", shape=(), dtype=int32)\n",
      "40\n"
     ]
    }
   ],
   "source": [
    "import tensorflow as tf\n",
    "\n",
    "x = tf.constant(35, name='x')\n",
    "print(x)\n",
    "y = tf.Variable(x + 5, name='y')\n",
    "\n",
    "with tf.Session() as session:\n",
    "    merged = tf.merge_all_summaries()\n",
    "    writer = tf.train.SummaryWriter(\"./test/basic\", session.graph)\n",
    "    model = tf.initialize_all_variables()\n",
    "    session.run(model)\n",
    "    print(session.run(y))"
   ]
  },
  {
   "cell_type": "code",
   "execution_count": 51,
   "metadata": {
    "collapsed": false
   },
   "outputs": [
    {
     "data": {
      "text/plain": [
       "2.1500001"
      ]
     },
     "execution_count": 51,
     "metadata": {},
     "output_type": "execute_result"
    }
   ],
   "source": []
  },
  {
   "cell_type": "code",
   "execution_count": 31,
   "metadata": {
    "collapsed": false
   },
   "outputs": [
    {
     "data": {
      "text/plain": [
       "[]"
      ]
     },
     "execution_count": 31,
     "metadata": {},
     "output_type": "execute_result"
    }
   ],
   "source": [
    "tf.all_variables()"
   ]
  },
  {
   "cell_type": "code",
   "execution_count": null,
   "metadata": {
    "collapsed": true
   },
   "outputs": [],
   "source": []
  }
 ],
 "metadata": {
  "anaconda-cloud": {},
  "kernelspec": {
   "display_name": "Python [Root]",
   "language": "python",
   "name": "Python [Root]"
  },
  "language_info": {
   "codemirror_mode": {
    "name": "ipython",
    "version": 2
   },
   "file_extension": ".py",
   "mimetype": "text/x-python",
   "name": "python",
   "nbconvert_exporter": "python",
   "pygments_lexer": "ipython2",
   "version": "2.7.12"
  }
 },
 "nbformat": 4,
 "nbformat_minor": 0
}
