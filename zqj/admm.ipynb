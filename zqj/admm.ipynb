{
 "cells": [
  {
   "cell_type": "markdown",
   "metadata": {},
   "source": [
    "# ADMM applied in Neural Networks with Mnist dataset\n"
   ]
  },
  {
   "cell_type": "code",
   "execution_count": 1,
   "metadata": {
    "collapsed": false
   },
   "outputs": [
    {
     "name": "stderr",
     "output_type": "stream",
     "text": [
      "//anaconda/lib/python2.7/site-packages/matplotlib/font_manager.py:273: UserWarning: Matplotlib is building the font cache using fc-list. This may take a moment.\n",
      "  warnings.warn('Matplotlib is building the font cache using fc-list. This may take a moment.')\n"
     ]
    }
   ],
   "source": [
    "# Preparation with environment for notebook\n",
    "import random\n",
    "import numpy as np\n",
    "import matplotlib.pyplot as plt\n",
    "from NeuralNetwork.data_utils import *\n",
    "\n",
    "# Allow inline matplotlib figures appear in the notebook\n",
    "%matplotlib inline\n",
    "plt.rcParams['figure.figsize'] = (10.0, 10.0) # set default size of plots\n",
    "plt.rcParams['image.interpolation'] = 'nearest'\n",
    "plt.rcParams['image.cmap'] = 'gray'\n",
    "\n",
    "# Allow auto-reload of external modules \n",
    "%load_ext autoreload\n",
    "%autoreload 2"
   ]
  },
  {
   "cell_type": "markdown",
   "metadata": {},
   "source": [
    "## Preprocessing and Loading of dataset"
   ]
  },
  {
   "cell_type": "code",
   "execution_count": 2,
   "metadata": {
    "collapsed": false
   },
   "outputs": [
    {
     "name": "stdout",
     "output_type": "stream",
     "text": [
      "Training data shape:  (60000, 28, 28)\n",
      "Training labels shape:  (60000,)\n",
      "Test data shape:  (10000, 28, 28)\n",
      "Test labels shape:  (10000,)\n"
     ]
    }
   ],
   "source": [
    "# Load Mnist Data\n",
    "mnistDir = \"NeuralNetwork/MnistData\"\n",
    "X_train,Y_train,X_test,Y_test = getMnistData(mnistDir)\n",
    "\n",
    "# Check the size of the training and test data.\n",
    "print 'Training data shape: ', X_train.shape\n",
    "print 'Training labels shape: ', Y_train.shape\n",
    "print 'Test data shape: ', X_test.shape\n",
    "print 'Test labels shape: ', Y_test.shape"
   ]
  },
  {
   "cell_type": "code",
   "execution_count": 3,
   "metadata": {
    "collapsed": false
   },
   "outputs": [
    {
     "data": {
      "image/png": "[encoded data removed]",
      "text/plain": [
       "<matplotlib.figure.Figure at 0x10cf23950>"
      ]
     },
     "metadata": {},
     "output_type": "display_data"
    }
   ],
   "source": [
    "# Display part of the Mnist data\n",
    "for xi in range(0,9):\n",
    "    plt.subplot(1,10,xi+1)\n",
    "    plt.imshow(X_train[xi])\n",
    "    plt.axis('off')\n",
    "    plt.title(Y_train[xi])"
   ]
  },
  {
   "cell_type": "markdown",
   "metadata": {},
   "source": [
    "## Test NeuralNetwork\n"
   ]
  },
  {
   "cell_type": "code",
   "execution_count": 260,
   "metadata": {
    "collapsed": false,
    "scrolled": true
   },
   "outputs": [
    {
     "name": "stdout",
     "output_type": "stream",
     "text": [
      "hasLambda =  True\n",
      "Xtr:  (784, 50) Xte:  (784, 50) Ytr:  (50,) Yte:  (50,)\n",
      "Initializing a neural network with :  2  hidden layers, hidden layer dimension: [100, 150]\n",
      "Total training time: 0.247338s\n",
      "Prediction accuracy: 1.000000\n",
      "hasLambda =  False\n",
      "Xtr:  (784, 50) Xte:  (784, 50) Ytr:  (50,) Yte:  (50,)\n",
      "Initializing a neural network with :  2  hidden layers, hidden layer dimension: [100, 150]\n",
      "Total training time: 0.227664s\n",
      "Prediction accuracy: 1.000000\n"
     ]
    }
   ],
   "source": [
    "# Get MiniPatch\n",
    "def getMiniPatch(X_train, Y_train, X_test, Y_test, trNum, teNum, transposed):\n",
    "    # Subsample the data for more efficient code execution \n",
    "    trainNum = trNum\n",
    "    mask = range(trainNum)\n",
    "    Xtr = X_train[mask]\n",
    "    Ytr = Y_train[mask]\n",
    "    \n",
    "    testNum = teNum\n",
    "    mask = range(testNum)\n",
    "    Xte = X_test[mask]\n",
    "    Yte = Y_test[mask]\n",
    "    \n",
    "    # Reshape the image data into rows\n",
    "    Xtr = np.reshape(Xtr, (Xtr.shape[0], -1))\n",
    "    Xte = np.reshape(Xte, (Xte.shape[0], -1))\n",
    "   \n",
    "    # print Xtr.shape, Xte.shape\n",
    "    if not transposed:\n",
    "        return Xtr, Xtr, Ytr, Yte\n",
    "    else:\n",
    "        return Xtr.T, Xte.T, Ytr, Yte\n",
    "\n",
    "from NeuralNetwork.neural_network import *\n",
    "import time\n",
    "\n",
    "\n",
    "case = [(50,50)]#(100,50),(500,50),(500,10),(5000,10),(5000,500),(20000,500),(20000, 2000)]\n",
    "lam = [True, False]\n",
    "for la in lam:\n",
    "    print 'hasLambda = ',la\n",
    "    for (trNum,teNum) in case:\n",
    "        X_tr, X_te, Y_tr, Y_te = getMiniPatch(X_train, Y_train, X_train, Y_train, trNum, teNum, 1)\n",
    "        print 'Xtr: ', X_tr.shape, 'Xte: ', X_te.shape, 'Ytr: ', Y_tr.shape, 'Yte: ', Y_te.shape\n",
    "        \n",
    "        # Initialize network\n",
    "        hiddenLayer = [100, 150]\n",
    "        classNum = 10 \n",
    "        epsilon = 0.01\n",
    "        network = NeuralNetwork(X_tr, Y_tr, classNum, hiddenLayer, epsilon)\n",
    "        # Train\n",
    "        weightConsWeight = 1\n",
    "        activConsWeight = 10\n",
    "        iterNum = 20\n",
    "        hasLambda = la\n",
    "        tic = time.time()\n",
    "        \"\"\" lossType: hinge, msq, smx \"\"\"\n",
    "        network.train(weightConsWeight, activConsWeight, iterNum, hasLambda,'hinge')\n",
    "        toc = time.time()\n",
    "        print 'Total training time: %fs' % (toc - tic)\n",
    "\n",
    "        # Predict\n",
    "        Ypred = network.predict(X_te)\n",
    "        print 'Prediction accuracy: %f' %np.mean(Ypred == Y_te)\n"
   ]
  },
  {
   "cell_type": "markdown",
   "metadata": {},
   "source": [
    "## Test the neural network (Old)"
   ]
  },
  {
   "cell_type": "code",
   "execution_count": 163,
   "metadata": {
    "collapsed": false
   },
   "outputs": [
    {
     "name": "stdout",
     "output_type": "stream",
     "text": [
      "trainNum: 30  testNum 13\n",
      "Initializing a neural network:  3  layers; Neuron Dimension: [0, 5, 3]\n",
      "[[ -3.58355295e-01  -7.07252094e-02  -1.84526334e-02]\n",
      " [  1.11735798e+01   7.16946902e+00   7.07876599e+00]\n",
      " [ -6.65550206e+00  -1.05971039e+01  -5.47400333e+00]\n",
      " [ -8.19467711e+00   1.07230900e+01  -1.96672479e+00]\n",
      " [ -1.79494429e+00  -1.36569110e-01   7.20542303e-01]\n",
      " [  4.35864729e-01  -4.24505170e-01   1.43525468e-01]\n",
      " [  8.83861686e-03   1.26276326e-01  -3.32266300e-01]\n",
      " [  6.59361665e+00  -1.18649246e+00  -1.03327290e+01]\n",
      " [ -6.79915259e-02  -1.14208440e-02   8.41061468e-03]\n",
      " [ -8.78063538e-01  -5.13080008e+00   1.42767387e+01]]\n",
      "Total training time: 0.023799s\n",
      "Prediction accuracy: 0.400000\n"
     ]
    }
   ],
   "source": [
    "from NeuralNetwork.admm import *\n",
    "import time\n",
    "def getStatistics(Xtr, Ytr, Xte, Yte, weightConsWeight, activConsWeight, iterNum, epsilon):\n",
    "    # Initialize a 3-layer neural network with specified neuron dimension, \n",
    "    # the first dim is determined by the size of input dataset\n",
    "    neuronDim = [0, 5, 3]\n",
    "    network = NeuralNetwork(3, neuronDim)\n",
    "    classNum = 10\n",
    "    \n",
    "    # Initialize weight matrix W of first layer \n",
    "    W = np.random.randn(Xtr.shape[1], classNum) * epsilon\n",
    "\n",
    "    # Train\n",
    "    tic = time.time()\n",
    "    weight = network.train(W, Xtr, Ytr, weightConsWeight, activConsWeight, iterNum, epsilon)\n",
    "    print weight[3].T\n",
    "    toc = time.time()\n",
    "    print 'Total training time: %fs' % (toc - tic)\n",
    "    \n",
    "    # Predict with the trained feature weight\n",
    "    Ypred = network.predict(weight, Xte)\n",
    "    print 'Prediction accuracy: %f' %np.mean(Ypred == Yte)\n",
    "    \n",
    "    \n",
    "def miniPatchTest(trNum, teNum):\n",
    "    # Subsample the data for more efficient code execution \n",
    "    trainNum = trNum\n",
    "    mask = range(trainNum)\n",
    "    Xtr = X_train[mask]\n",
    "    Ytr = Y_train[mask]\n",
    "\n",
    "    testNum = teNum\n",
    "    mask = range(testNum)\n",
    "    Xte = X_test[mask]\n",
    "    Yte = Y_test[mask]\n",
    "    \n",
    "    # Reshape the image data into rows\n",
    "    Xtr = np.reshape(Xtr, (Xtr.shape[0], -1))\n",
    "    Xte = np.reshape(Xte, (Xte.shape[0], -1))\n",
    "    \n",
    "    # Specify weight coefficients of two regularization term, iteration of ADMM updates\n",
    "    weightConsWeight = 1\n",
    "    activConsWeight = 10\n",
    "    iterNum = 10\n",
    "    epsilon = 0.01\n",
    "    getStatistics(Xtr, Ytr, Xtr, Ytr, weightConsWeight, activConsWeight, iterNum, epsilon)\n",
    "    \n",
    "\n",
    "test = {(30,13)}#{(100,10),(1000,100),(5000,100),(50000,1000)}\n",
    "for (trNum,teNum) in test:\n",
    "    print 'trainNum: %d  testNum %d' % (trNum, teNum)\n",
    "    miniPatchTest(trNum,teNum)\n",
    "\n"
   ]
  },
  {
   "cell_type": "code",
   "execution_count": null,
   "metadata": {
    "collapsed": true
   },
   "outputs": [],
   "source": []
  },
  {
   "cell_type": "code",
   "execution_count": null,
   "metadata": {
    "collapsed": true
   },
   "outputs": [],
   "source": []
  }
 ],
 "metadata": {
  "anaconda-cloud": {},
  "kernelspec": {
   "display_name": "Python [Root]",
   "language": "python",
   "name": "Python [Root]"
  },
  "language_info": {
   "codemirror_mode": {
    "name": "ipython",
    "version": 2
   },
   "file_extension": ".py",
   "mimetype": "text/x-python",
   "name": "python",
   "nbconvert_exporter": "python",
   "pygments_lexer": "ipython2",
   "version": "2.7.12"
  }
 },
 "nbformat": 4,
 "nbformat_minor": 0
}
