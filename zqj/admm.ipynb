{
 "cells": [
  {
   "cell_type": "markdown",
   "metadata": {},
   "source": [
    "# ADMM applied in Neural Networks with Mnist dataset\n"
   ]
  },
  {
   "cell_type": "code",
   "execution_count": 9,
   "metadata": {
    "collapsed": false
   },
   "outputs": [
    {
     "name": "stdout",
     "output_type": "stream",
     "text": [
      "The autoreload extension is already loaded. To reload it, use:\n",
      "  %reload_ext autoreload\n"
     ]
    }
   ],
   "source": [
    "# Preparation with environment for notebook\n",
    "import random\n",
    "import numpy as np\n",
    "import matplotlib.pyplot as plt\n",
    "from matplotlib import gridspec\n",
    "from NeuralNetwork.data_utils import *\n",
    "\n",
    "# Allow inline matplotlib figures appear in the notebook\n",
    "%matplotlib inline\n",
    "plt.rcParams['figure.figsize'] = (10.0, 10.0) # set default size of plots\n",
    "plt.rcParams['image.interpolation'] = 'nearest'\n",
    "plt.rcParams['image.cmap'] = 'gray'\n",
    "\n",
    "# Allow auto-reload of external modules \n",
    "%load_ext autoreload\n",
    "%autoreload 2"
   ]
  },
  {
   "cell_type": "markdown",
   "metadata": {},
   "source": [
    "## Preprocessing and Loading of dataset"
   ]
  },
  {
   "cell_type": "code",
   "execution_count": 48,
   "metadata": {
    "collapsed": false
   },
   "outputs": [
    {
     "name": "stdout",
     "output_type": "stream",
     "text": [
      "(784, 60000)\n",
      "(784, 10000)\n"
     ]
    },
    {
     "data": {
      "text/plain": [
       "{'test': <NeuralNetwork.data_utils.DataSet instance at 0x10b9a8c68>,\n",
       " 'train': <NeuralNetwork.data_utils.DataSet instance at 0x1087c9e60>}"
      ]
     },
     "execution_count": 48,
     "metadata": {},
     "output_type": "execute_result"
    }
   ],
   "source": [
    "from NeuralNetwork.data_utils import *\n",
    "mnistDir = \"NeuralNetwork/MnistData\"\n",
    "datasets = getMnistDataSets(mnistDir,valSize=0)\n",
    "datasets"
   ]
  },
  {
   "cell_type": "code",
   "execution_count": 32,
   "metadata": {
    "collapsed": false
   },
   "outputs": [
    {
     "name": "stdout",
     "output_type": "stream",
     "text": [
      "Training data shape:  (60000, 28, 28) float64\n",
      "Training labels shape:  (60000,) int64\n",
      "Test data shape:  (10000, 28, 28)\n",
      "Test labels shape:  (10000,)\n"
     ]
    }
   ],
   "source": [
    "# Load Mnist Data\n",
    "mnistDir = \"NeuralNetwork/MnistData\"\n",
    "X_train,Y_train,X_test,Y_test = getMnistData(mnistDir)\n",
    "\n",
    "# Check the size of the training and test data.\n",
    "print 'Training data shape: ', X_train.shape, X_train.dtype\n",
    "print 'Training labels shape: ', Y_train.shape,Y_train.dtype\n",
    "print 'Test data shape: ', X_test.shape\n",
    "print 'Test labels shape: ', Y_test.shape"
   ]
  },
  {
   "cell_type": "code",
   "execution_count": 12,
   "metadata": {
    "collapsed": false
   },
   "outputs": [
    {
     "data": {
      "image/png": "[encoded data removed]",
      "text/plain": [
       "<matplotlib.figure.Figure at 0x110295f10>"
      ]
     },
     "metadata": {},
     "output_type": "display_data"
    }
   ],
   "source": [
    "# Display part of the Mnist data\n",
    "for xi in range(0,9):\n",
    "    plt.subplot(1,10,xi+1)\n",
    "    plt.imshow(X_train[xi])\n",
    "    plt.axis('off')\n",
    "    plt.title(Y_train[xi])"
   ]
  },
  {
   "cell_type": "markdown",
   "metadata": {},
   "source": [
    "## Predefined Functions"
   ]
  },
  {
   "cell_type": "code",
   "execution_count": 13,
   "metadata": {
    "collapsed": true
   },
   "outputs": [],
   "source": [
    "# Get MiniPatch\n",
    "def getMiniPatch(X_train, Y_train, X_test, Y_test, trNum, teNum, transposed):\n",
    "    # Subsample the data for more efficient code execution \n",
    "    trainNum = trNum\n",
    "    mask = range(trainNum)\n",
    "    #mask = range(5000,trainNum)\n",
    "    Xtr = X_train[mask]\n",
    "    Ytr = Y_train[mask]\n",
    "    \n",
    "    testNum = teNum\n",
    "    mask = range(testNum)\n",
    "    #mask = range(5000,5000+testNum)\n",
    "    Xte = X_test[mask]\n",
    "    Yte = Y_test[mask]\n",
    "    \n",
    "    # Reshape the image data into rows\n",
    "    Xtr = np.reshape(Xtr, (Xtr.shape[0], -1))\n",
    "    Xte = np.reshape(Xte, (Xte.shape[0], -1))\n",
    "   \n",
    "    # print Xtr.shape, Xte.shape\n",
    "    if not transposed:\n",
    "        return Xtr, Xtr, Ytr, Yte\n",
    "    else:\n",
    "        return preprocess(Xtr.T), Xte.T, Ytr, Yte\n",
    "\n",
    "def preprocess(X):\n",
    "    \n",
    "#     # return X\n",
    "#     X = X.astype(np.float64)\n",
    "#     # Mean subtraction\n",
    "#     X -= np.mean(X)  \n",
    "#     # Normalization\n",
    "   # X /= np.std(X, axis = 0)\n",
    "    return X"
   ]
  },
  {
   "cell_type": "markdown",
   "metadata": {},
   "source": [
    "## Test NeuralNetwork\n"
   ]
  },
  {
   "cell_type": "code",
   "execution_count": 31,
   "metadata": {
    "collapsed": false,
    "scrolled": false,
    "slideshow": {
     "slide_type": "slide"
    }
   },
   "outputs": [
    {
     "name": "stdout",
     "output_type": "stream",
     "text": [
      "hasLambda =  True\n",
      "Xtr:  (784, 100) Xte:  (784, 10) Ytr:  (100,) Yte:  (10,)\n",
      "[]   [[]]   [[], []]\n",
      "Initializing a neural network with :  1  hidden layers, hidden layer dimension: [300]\n",
      "Total training time: 0.729307s\n",
      "(300, 784)\n",
      ",,, (10,)\n",
      "Prediction accuracy: 1.000000\n"
     ]
    },
    {
     "data": {
      "image/png": "[encoded data removed]",
      "text/plain": [
       "<matplotlib.figure.Figure at 0x103b1fa10>"
      ]
     },
     "metadata": {},
     "output_type": "display_data"
    }
   ],
   "source": [
    "from NeuralNetwork.neural_network import *\n",
    "import time\n",
    "\n",
    "\n",
    "case = [(100,10)]#,(5000,50)]#,(500,10),(5000,10),(5000,500),(20000,500),(20000, 2000)]\n",
    "lam = [True]\n",
    "i = 0\n",
    "for la in lam:\n",
    "    print 'hasLambda = ',la\n",
    "    for (trNum,teNum) in case:\n",
    "        X_tr, X_te, Y_tr, Y_te = getMiniPatch(X_train, Y_train, X_test, Y_test, trNum, teNum, 1)\n",
    "        print 'Xtr: ', X_tr.shape, 'Xte: ', X_te.shape, 'Ytr: ', Y_tr.shape, 'Yte: ', Y_te.shape\n",
    "        \n",
    "        # Initialize network\n",
    "        hiddenLayer = [300]\n",
    "        classNum = 10 \n",
    "        epsilon= 0.0001 \n",
    "        #epsilon = np.sqrt(2.0/trNum)\n",
    "        network = NeuralNetwork(X_tr, Y_tr, classNum, hiddenLayer, epsilon)\n",
    "        # Train\n",
    "        weightConsWeight = 10\n",
    "        activConsWeight = 15\n",
    "        iterNum = 20\n",
    "        hasLambda = la\n",
    "        tic = time.time()\n",
    "        calLoss = True\n",
    "        \n",
    "        \"\"\" \n",
    "        Input:\n",
    "        weightConsWeight, activConsWeight\n",
    "        iterNum:    iteration to perform Admm updates\n",
    "        hasLambda:  whether include Lambda update\n",
    "        lossType:   one of {'hinge', 'msq', 'smx'}, default is 'smx'\n",
    "        minMethod:  if lossType is 'smx', the method to minimize the zLastUpdate has to be specified (for it's not in closed form), \n",
    "                    it can be one of {'prox','gd','newton'}, default is 'prox';\n",
    "        tau, ite:   if lossType is 'smx', the step size and iteration of gradient descent/proximal gradient have to be specified, \n",
    "                    default: tau=0.01, ite=25; \n",
    "        \"\"\"\n",
    "        #network.train(weightConsWeight, activConsWeight, iterNum, hasLambda,lossType = 'hinge')\n",
    "        network.train(weightConsWeight, activConsWeight, iterNum, hasLambda, calLoss, lossType = 'smx',\n",
    "                      minMethod = 'prox', tau= 0.01, ite= 25)\n",
    "        toc = time.time()\n",
    "        print 'Total training time: %fs' % (toc - tic)\n",
    "\n",
    "        # Predict\n",
    "        Ypred,z = network.predict(X_te)\n",
    "        print ',,,',Ypred.shape\n",
    "        print 'Prediction accuracy: %f' %np.mean(Ypred == Y_te)\n",
    "        \n",
    "        L = len(hiddenLayer)\n",
    "        if calLoss:\n",
    "            fig = plt.figure()\n",
    "            gs = gridspec.GridSpec(5,L)\n",
    "          \n",
    "            dataLoss = fig.add_subplot(gs[0,:])\n",
    "            dataLoss.set_title('loss function')\n",
    "            dataLoss.plot(network.dataLoss, 'k-')\n",
    "\n",
    "            for l in range(0,L):\n",
    "                aloss = fig.add_subplot(gs[1,l])\n",
    "                aloss.set_title('constraint a = hz, layer = %d' % (l+1))\n",
    "                aloss.plot(network.aConstrLoss[l], 'g-')\n",
    "                \n",
    "                zloss = fig.add_subplot(gs[2,l])\n",
    "                zloss.set_title('constraint z = wa, layer = %d' % (l+1))\n",
    "                zloss.plot(network.zConstrLoss[l], 'b-')\n",
    "                \n",
    "#             lag = fig.add_subplot(gs[3,:])\n",
    "#             lag.set_title('lagrange term')\n",
    "#             lag.plot(network.lagraLoss, 'r-')\n",
    "\n",
    "            \n",
    "            zLLoss = fig.add_subplot(gs[3,:])\n",
    "            zLLoss.set_title('output layer zL')\n",
    "            zLLoss.plot(network.zConstrLoss[L], 'k-')\n",
    "            \n",
    "            total = fig.add_subplot(gs[4,:])\n",
    "            total.set_title('total loss ')\n",
    "            total.plot(network.totalLoss, 'r-')\n",
    "            \n",
    "            plt.tight_layout()\n",
    "            plt.show()\n",
    "        \n"
   ]
  },
  {
   "cell_type": "code",
   "execution_count": 30,
   "metadata": {
    "collapsed": false
   },
   "outputs": [
    {
     "name": "stdout",
     "output_type": "stream",
     "text": [
      "(300, 784)\n",
      "Prediction accuracy: 0.555000\n"
     ]
    }
   ],
   "source": [
    "X_tr, X_te, Y_tr, Y_te = getMiniPatch(X_train, Y_train, X_test, Y_test, 6000, 1000, 1)\n",
    "Ypred,x = network.predict(X_te)\n",
    "print 'Prediction accuracy: %f' %np.mean(Ypred == Y_te)"
   ]
  },
  {
   "cell_type": "code",
   "execution_count": null,
   "metadata": {
    "collapsed": true
   },
   "outputs": [],
   "source": [
    "\n"
   ]
  }
 ],
 "metadata": {
  "anaconda-cloud": {},
  "kernelspec": {
   "display_name": "Python [Root]",
   "language": "python",
   "name": "Python [Root]"
  },
  "language_info": {
   "codemirror_mode": {
    "name": "ipython",
    "version": 2
   },
   "file_extension": ".py",
   "mimetype": "text/x-python",
   "name": "python",
   "nbconvert_exporter": "python",
   "pygments_lexer": "ipython2",
   "version": "2.7.12"
  }
 },
 "nbformat": 4,
 "nbformat_minor": 0
}
