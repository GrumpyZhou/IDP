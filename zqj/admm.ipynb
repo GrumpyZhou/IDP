{
 "cells": [
  {
   "cell_type": "markdown",
   "metadata": {},
   "source": [
    "# ADMM applied in Neural Networks with Mnist dataset\n"
   ]
  },
  {
   "cell_type": "code",
   "execution_count": 1,
   "metadata": {
    "collapsed": false
   },
   "outputs": [
    {
     "name": "stderr",
     "output_type": "stream",
     "text": [
      "//anaconda/lib/python2.7/site-packages/matplotlib/font_manager.py:273: UserWarning: Matplotlib is building the font cache using fc-list. This may take a moment.\n",
      "  warnings.warn('Matplotlib is building the font cache using fc-list. This may take a moment.')\n"
     ]
    }
   ],
   "source": [
    "# Preparation with environment for notebook\n",
    "import random\n",
    "import numpy as np\n",
    "import matplotlib.pyplot as plt\n",
    "from NeuralNetwork.data_utils import *\n",
    "\n",
    "# Allow inline matplotlib figures appear in the notebook\n",
    "%matplotlib inline\n",
    "plt.rcParams['figure.figsize'] = (10.0, 10.0) # set default size of plots\n",
    "plt.rcParams['image.interpolation'] = 'nearest'\n",
    "plt.rcParams['image.cmap'] = 'gray'\n",
    "\n",
    "# Allow auto-reload of external modules \n",
    "%load_ext autoreload\n",
    "%autoreload 2"
   ]
  },
  {
   "cell_type": "markdown",
   "metadata": {},
   "source": [
    "## Preprocessing and Loading of dataset"
   ]
  },
  {
   "cell_type": "code",
   "execution_count": 3,
   "metadata": {
    "collapsed": false
   },
   "outputs": [
    {
     "name": "stdout",
     "output_type": "stream",
     "text": [
      "Training data shape:  (60000, 28, 28)\n",
      "Training labels shape:  (60000,)\n",
      "Test data shape:  (10000, 28, 28)\n",
      "Test labels shape:  (10000,)\n"
     ]
    }
   ],
   "source": [
    "# Load Mnist Data\n",
    "mnistDir = \"NeuralNetwork/MnistData\"\n",
    "X_train,Y_train,X_test,Y_test = getMnistData(mnistDir)\n",
    "\n",
    "# Check the size of the training and test data.\n",
    "print 'Training data shape: ', X_train.shape\n",
    "print 'Training labels shape: ', Y_train.shape\n",
    "print 'Test data shape: ', X_test.shape\n",
    "print 'Test labels shape: ', Y_test.shape"
   ]
  },
  {
   "cell_type": "code",
   "execution_count": 4,
   "metadata": {
    "collapsed": false
   },
   "outputs": [
    {
     "data": {
      "image/png": "[encoded data removed]",
      "text/plain": [
       "<matplotlib.figure.Figure at 0x10cf36410>"
      ]
     },
     "metadata": {},
     "output_type": "display_data"
    }
   ],
   "source": [
    "# Display part of the Mnist data\n",
    "for xi in range(0,9):\n",
    "    plt.subplot(1,10,xi+1)\n",
    "    plt.imshow(X_train[xi])\n",
    "    plt.axis('off')\n",
    "    plt.title(Y_train[xi])"
   ]
  },
  {
   "cell_type": "markdown",
   "metadata": {},
   "source": [
    "## Training the neural network"
   ]
  },
  {
   "cell_type": "code",
   "execution_count": 5,
   "metadata": {
    "collapsed": false
   },
   "outputs": [],
   "source": [
    "from NeuralNetwork.admm import *\n",
    "import time\n",
    "def getStatistics(Xtr, Ytr, Xte, Yte, weightConsWeight, activConsWeight, iterNum, epsilon):\n",
    "    # Initialize a 3-layer neural network with specified neuron dimension, \n",
    "    # the first dim is determined by the size of input dataset\n",
    "    neuronDim = [0, 150, 150]\n",
    "    network = NeuralNetwork(3, neuronDim)\n",
    "    classNum = 10\n",
    "    \n",
    "    # Initialize weight matrix W of first layer \n",
    "    W = np.random.randn(Xtr.shape[1], classNum) * epsilon\n",
    "\n",
    "    # Train\n",
    "    tic = time.time()\n",
    "    weight = network.train(W, Xtr, Ytr, weightConsWeight, activConsWeight, iterNum, epsilon)\n",
    "    toc = time.time()\n",
    "    print 'Total training time: %fs' % (toc - tic)\n",
    "    \n",
    "    # Predict with the trained feature weight\n",
    "    Ypred = network.predict(weight, Xte)\n",
    "    print 'Prediction accuracy: %f' %np.mean(Ypred == Yte)"
   ]
  },
  {
   "cell_type": "markdown",
   "metadata": {},
   "source": [
    "## Test the neural network"
   ]
  },
  {
   "cell_type": "code",
   "execution_count": 6,
   "metadata": {
    "collapsed": false
   },
   "outputs": [
    {
     "name": "stdout",
     "output_type": "stream",
     "text": [
      "Initializing a neural network:  3  layers; Neuron Dimension: [0, 1024, 1024]\n",
      "Total training time: 27.253368s\n",
      "Prediction accuracy: 0.160000\n"
     ]
    }
   ],
   "source": [
    "def miniPatchTest(trNum, teNum):\n",
    "    # Subsample the data for more efficient code execution \n",
    "    trainNum = trNum\n",
    "    mask = range(trainNum)\n",
    "    Xtr = X_train[mask]\n",
    "    Ytr = Y_train[mask]\n",
    "\n",
    "    testNum = teNum\n",
    "    mask = range(testNum)\n",
    "    Xte = X_test[mask]\n",
    "    Yte = Y_test[mask]\n",
    "    \n",
    "    # Reshape the image data into rows\n",
    "    Xtr = np.reshape(Xtr, (Xtr.shape[0], -1))\n",
    "    Xte = np.reshape(Xte, (Xte.shape[0], -1))\n",
    "#     print Xtr.shape, Xte.shape\n",
    "\n",
    "    # Specify weight coefficients of two regularization term, iteration of ADMM updates\n",
    "    weightConsWeight = 1\n",
    "    activConsWeight = 10\n",
    "    iterNum = 10\n",
    "    epsilon = 0.01\n",
    "    getStatistics(Xtr, Ytr, Xte, Yte, weightConsWeight, activConsWeight, iterNum, epsilon)\n",
    "    \n",
    "\n",
    "train = np.array([1000])\n",
    "for i in train:\n",
    "    miniPatchTest(i,100)\n",
    "# print \"==================\"\n",
    "# for i in train:\n",
    "#     miniPatchTest(i,5000)\n",
    "\n"
   ]
  },
  {
   "cell_type": "markdown",
   "metadata": {},
   "source": [
    "## For Testing "
   ]
  },
  {
   "cell_type": "code",
   "execution_count": 196,
   "metadata": {
    "collapsed": false
   },
   "outputs": [
    {
     "name": "stdout",
     "output_type": "stream",
     "text": [
      " C:10 N:200 L:3 epsilon:0.000100    [784, 100, 150]\n"
     ]
    }
   ],
   "source": [
    "# Testing Module\n",
    "C = W.shape[1]\n",
    "N = Xtr.shape[0]\n",
    "L = 3\n",
    "Dim = neuronDim\n",
    "Dim[0] = Xtr.shape[1]\n",
    "epsilon = 0.0001\n",
    "\n",
    "\n",
    "print \"C:%d N:%d L:%d epsilon:%f \" %(C,N,L,epsilon), \" \", Dim,"
   ]
  },
  {
   "cell_type": "code",
   "execution_count": 197,
   "metadata": {
    "collapsed": false
   },
   "outputs": [],
   "source": [
    "# Main\n",
    "def neuronReLU(x):\n",
    "        \"\"\" Evaluate Rectified Linear Unit \"\"\"\n",
    "        # element wise\n",
    "        xn = np.copy(x)\n",
    "        xn[xn < 0] = 0\n",
    "        return xn\n",
    "    \n",
    "def toHotOne(Y, C):\n",
    "        \"\"\" Construct Hot-one representation of Y \"\"\"\n",
    "        y = np.zeros((Y.shape[0],C))\n",
    "        for i in range(0,Y.shape[0]):\n",
    "            y[i, Y[i]] = 1\n",
    "        return y\n",
    "\n",
    "def outputElementWiseCost(beta, aw, z, y, isOne):\n",
    "        return hingeLossElementWiseCost(z,y, isOne) + beta * (z - aw) ** 2 \n",
    "\n",
    "def regularElementWiseCost(beta, gamma, a, aw, z):\n",
    "        \"\"\" Calculate elementwise cost \"\"\"\n",
    "        return  gamma * (a - neuronReLU(z)) ** 2 + beta * (z - wa) ** 2 \n",
    "    \n",
    "def hingeLossElementWiseCost(z, y, isOne):\n",
    "        \"\"\" Evaluate Hinge Loss \"\"\"\n",
    "        zn = np.copy(z)\n",
    "        x = np.zeros(z.shape)\n",
    "        if not isOne:\n",
    "            zn[y == 0] = np.maximum(zn,x)[y == 0]\n",
    "        else:\n",
    "            zn[y == 1] = np.maximum(1-zn,x)[y == 1]\n",
    "        return zn\n",
    "\n",
    "def regularElementWiseCost(beta, gamma, a, aw, z):\n",
    "        \"\"\" Calculate elementwise cost \"\"\"\n",
    "        return  gamma * (a - neuronReLU(z)) ** 2 + beta * (z - aw) ** 2 \n",
    "    "
   ]
  },
  {
   "cell_type": "code",
   "execution_count": 201,
   "metadata": {
    "collapsed": false
   },
   "outputs": [
    {
     "name": "stdout",
     "output_type": "stream",
     "text": [
      "\n",
      " a:  (200, 784) (200, 100) (200, 150) \n",
      " z:  (0,) (200, 100) (200, 150) (200, 10) \n",
      " w:  (0,) (784, 100) (100, 150) (150, 10)\n",
      "w 1 :  [[  6.73174109e-21  -3.55177491e-22  -3.00971339e-21  -6.47328761e-22]\n",
      " [ -6.69472848e-21  -9.62135974e-22  -2.23472719e-21  -5.81547743e-22]\n",
      " [ -6.93336007e-21   1.60449773e-22   1.23836964e-22   7.52271444e-23]\n",
      " [  1.40218760e-21  -1.00658415e-21   1.97234936e-21  -2.11409582e-21]\n",
      " [  1.37897920e-20   1.08097370e-21   2.93737749e-21  -2.12517557e-22]]\n",
      "w 2 :  [[-0.05120213 -0.10317951 -0.01531815  0.12185371]\n",
      " [ 0.17040168 -0.05947507  0.46553075 -0.01965603]\n",
      " [ 0.28273424  0.32104814 -0.20826831 -0.45522063]\n",
      " [ 0.20066342 -0.10783917 -0.46707249 -0.27588645]\n",
      " [-0.15215018 -0.45553279 -0.28327806  0.40028184]]\n",
      "w 3 :  [[-0.006073   -0.06824106  0.27906912  0.32243342]\n",
      " [-0.03666355  0.02531272  0.40318304  0.28581778]\n",
      " [ 0.12596102 -0.45680816  0.39253417 -0.36061932]\n",
      " [ 0.45670397  0.0740398  -0.31883678 -0.59107709]\n",
      " [-0.37295304  0.78690997  0.3894381  -0.34976201]]\n"
     ]
    }
   ],
   "source": [
    "# Initialization \n",
    "# - a[]: activation list for each layer [a0, a1, a2]: a0(N,Dim[0]), a1(N,Dim[1]),a2(N,Dim[2])\n",
    "# - z[]: z list for each layer [0, z1, z2, z3]: z1(N,Dim[1]),z2(N,Dim[2]), z3(N,C)\n",
    "# - w[]: weight list for each layer  [0, w1, w2, w3]: w1(Dim[0],Dim[1]), w2(Dim[1],Dim[2]), w3(Dim[2],C)\n",
    "\n",
    "a = [Xtr, epsilon*np.random.randn(N, Dim[1]), epsilon*np.random.randn(N, Dim[2])] # whether to vectorize\n",
    "z = [np.zeros((0)), epsilon*np.random.randn(N, Dim[1]), epsilon*np.random.randn(N, Dim[2]), epsilon*np.random.randn(N, C)]\n",
    "w = [np.zeros((0)), epsilon*np.random.randn(Dim[0], Dim[1]), epsilon*np.random.randn(Dim[1], Dim[2]), epsilon*np.random.randn(Dim[2], C)]\n",
    "\n",
    "# - beta,gama: penalty coefficiencies\n",
    "# - K: it  erations of ADMM\n",
    "beta = 1.0 * weightConsWeight # 1\n",
    "gamma = 1.0 * activConsWeight\n",
    "K = iterNum\n",
    "\n",
    "print \"\\n a: \",\n",
    "for ai in a:\n",
    "    print ai.shape,\n",
    "\n",
    "print \"\\n z: \",\n",
    "for ai in z:\n",
    "    print ai.shape,\n",
    "\n",
    "print \"\\n w: \",\n",
    "for ai in w:\n",
    "    print ai.shape,\n",
    "\n",
    "print \n",
    "\n",
    "# Main part of ADMM updates\n",
    "for k in range(K):\n",
    "    # Walk through L-layer network\n",
    "    for l in range(1, L):\n",
    "        w[l] = np.linalg.pinv(a[l-1]).dot(z[l])\n",
    "        wNtr = w[l+1].T\n",
    "#         print  z[l+1].shape,wNtr.shape,w[l+1].shape\n",
    "        x = beta * w[l+1].dot(wNtr) + gamma * np.identity(wNtr.shape[1])\n",
    "#         print \"\",x[:5,:4], np.linalg.det(x),\n",
    "        \n",
    "        #a[l] = np.linalg.inv(beta * (w[l+1].dot(wNtr) + gamma)) * (beta * z[l+1].dot(wNtr)) + gamma * neuronReLU(z[l])\n",
    "        a[l] = (beta * z[l+1].dot(wNtr) + gamma * neuronReLU(z[l])).dot(np.linalg.inv(beta * w[l+1].dot(wNtr) + gamma * np.identity(wNtr.shape[1])))\n",
    "\n",
    "        \n",
    "        \n",
    "        # z update\n",
    "        aw = a[l-1].dot(w[l])\n",
    "        \n",
    "        # z_i < 0\n",
    "        z_s = np.copy(aw)\n",
    "        z_s[z_s > 0] = 0\n",
    "        l_s = regularElementWiseCost(beta, gamma, a[l], aw, z_s)\n",
    "\n",
    "        # z_i > 0\n",
    "        z_b = (gamma * a[l] + beta * z_s) / (beta + gamma)\n",
    "        z_b[z_b < 0] = 0\n",
    "        l_b = regularElementWiseCost(beta, gamma, a[l], aw, z_b)\n",
    "        \n",
    "        z_s[l_s > l_b] = z_b[l_s > l_b]\n",
    "        z[l] = np.copy(z_s)\n",
    "      \n",
    "      \n",
    "    # L-layer\n",
    "    w[L] = np.linalg.pinv(a[L-1]).dot(z[L])\n",
    "    \n",
    "\n",
    "    # Transform y to hotone representation\n",
    "    y = toHotOne(Ytr, C)\n",
    "\n",
    "    # Hinge Loss\n",
    "    awL = a[L-1].dot(w[L])\n",
    "    zL = np.zeros(awL.shape)\n",
    "\n",
    "    # y_i = 1\n",
    "    # zi > 1\n",
    "    zL_b = np.copy(awL)\n",
    "    zL_b[zL_b < 1] = 1\n",
    "    lL_b = outputElementWiseCost(beta, awL, zL_b, y, 1)\n",
    "    \n",
    "    # zi < 1\n",
    "    zL_s = np.copy(awL + 1 / (2 * beta))\n",
    "    zL_s[zL_s > 1] = 1\n",
    "    lL_s = outputElementWiseCost(beta, awL, zL_s, y, 1)\n",
    "    \n",
    "    zL_s[lL_s > lL_b] = zL_b[lL_s > lL_b]\n",
    "    zL[y == 1] = zL_s[y == 1]\n",
    "\n",
    "    # y_i = 0\n",
    "    # zi < 0\n",
    "    zL_s = np.copy(awL)\n",
    "    zL_s[zL_s > 0] = 0\n",
    "    lL_s = outputElementWiseCost(beta, awL, zL_s, y, 0)\n",
    "\n",
    "    # zi > 0\n",
    "    zL_b = np.copy(awL - 1 / (2 * beta))\n",
    "    zL_b[zL_b < 0] = 0\n",
    "    lL_b = outputElementWiseCost(beta, awL, zL_b, y, 0)\n",
    "        \n",
    "    zL_s[lL_s > lL_b] = zL_b[lL_s > lL_b]\n",
    "    zL[y == 0] = zL_s[y == 0]\n",
    "    \n",
    "    # Update zL\n",
    "    z[L] = zL\n",
    "    \n",
    "    # Update beta, gamma\n",
    "    beta *= 1.05\n",
    "    gamma *= 1.05\n",
    "    \n",
    "    # Calculate loss\n",
    "    #loss = calcuLoss(w, a, z, Ytr, gamma, beta)\n",
    "    #print \"Loss of iter \",k,\":\", loss\n",
    "\n",
    "for i in range(1,L+1):\n",
    "    print \"w\",i,\": \", w[i][:5,:4]\n"
   ]
  }
 ],
 "metadata": {
  "anaconda-cloud": {},
  "kernelspec": {
   "display_name": "Python [Root]",
   "language": "python",
   "name": "Python [Root]"
  },
  "language_info": {
   "codemirror_mode": {
    "name": "ipython",
    "version": 2
   },
   "file_extension": ".py",
   "mimetype": "text/x-python",
   "name": "python",
   "nbconvert_exporter": "python",
   "pygments_lexer": "ipython2",
   "version": "2.7.12"
  }
 },
 "nbformat": 4,
 "nbformat_minor": 0
}
